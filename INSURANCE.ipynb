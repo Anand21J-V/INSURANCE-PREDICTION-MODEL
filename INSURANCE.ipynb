{
 "cells": [
  {
   "cell_type": "code",
   "execution_count": 1,
   "id": "da396513",
   "metadata": {},
   "outputs": [],
   "source": [
    "##IMPORT LIBRARIES\n",
    "\n",
    "import numpy as np\n",
    "import pandas as pd\n",
    "import matplotlib.pyplot as plt\n",
    "import seaborn as sns\n",
    "from sklearn.preprocessing import LabelEncoder,StandardScaler,MinMaxScaler\n",
    "from sklearn.model_selection import train_test_split\n",
    "from sklearn.svm import SVR\n",
    "from sklearn.tree import DecisionTreeRegressor\n",
    "from sklearn.model_selection import KFold,cross_val_score\n",
    "from sklearn.metrics import mean_squared_error,r2_score"
   ]
  },
  {
   "cell_type": "code",
   "execution_count": 2,
   "id": "518c8aa8",
   "metadata": {},
   "outputs": [
    {
     "data": {
      "text/html": [
       "<div>\n",
       "<style scoped>\n",
       "    .dataframe tbody tr th:only-of-type {\n",
       "        vertical-align: middle;\n",
       "    }\n",
       "\n",
       "    .dataframe tbody tr th {\n",
       "        vertical-align: top;\n",
       "    }\n",
       "\n",
       "    .dataframe thead th {\n",
       "        text-align: right;\n",
       "    }\n",
       "</style>\n",
       "<table border=\"1\" class=\"dataframe\">\n",
       "  <thead>\n",
       "    <tr style=\"text-align: right;\">\n",
       "      <th></th>\n",
       "      <th>age</th>\n",
       "      <th>sex</th>\n",
       "      <th>bmi</th>\n",
       "      <th>children</th>\n",
       "      <th>smoker</th>\n",
       "      <th>region</th>\n",
       "      <th>charges</th>\n",
       "    </tr>\n",
       "  </thead>\n",
       "  <tbody>\n",
       "    <tr>\n",
       "      <th>0</th>\n",
       "      <td>19</td>\n",
       "      <td>female</td>\n",
       "      <td>27.900</td>\n",
       "      <td>0</td>\n",
       "      <td>yes</td>\n",
       "      <td>southwest</td>\n",
       "      <td>16884.92400</td>\n",
       "    </tr>\n",
       "    <tr>\n",
       "      <th>1</th>\n",
       "      <td>18</td>\n",
       "      <td>male</td>\n",
       "      <td>33.770</td>\n",
       "      <td>1</td>\n",
       "      <td>no</td>\n",
       "      <td>southeast</td>\n",
       "      <td>1725.55230</td>\n",
       "    </tr>\n",
       "    <tr>\n",
       "      <th>2</th>\n",
       "      <td>28</td>\n",
       "      <td>male</td>\n",
       "      <td>33.000</td>\n",
       "      <td>3</td>\n",
       "      <td>no</td>\n",
       "      <td>southeast</td>\n",
       "      <td>4449.46200</td>\n",
       "    </tr>\n",
       "    <tr>\n",
       "      <th>3</th>\n",
       "      <td>33</td>\n",
       "      <td>male</td>\n",
       "      <td>22.705</td>\n",
       "      <td>0</td>\n",
       "      <td>no</td>\n",
       "      <td>northwest</td>\n",
       "      <td>21984.47061</td>\n",
       "    </tr>\n",
       "    <tr>\n",
       "      <th>4</th>\n",
       "      <td>32</td>\n",
       "      <td>male</td>\n",
       "      <td>28.880</td>\n",
       "      <td>0</td>\n",
       "      <td>no</td>\n",
       "      <td>northwest</td>\n",
       "      <td>3866.85520</td>\n",
       "    </tr>\n",
       "    <tr>\n",
       "      <th>5</th>\n",
       "      <td>31</td>\n",
       "      <td>female</td>\n",
       "      <td>25.740</td>\n",
       "      <td>0</td>\n",
       "      <td>no</td>\n",
       "      <td>southeast</td>\n",
       "      <td>3756.62160</td>\n",
       "    </tr>\n",
       "    <tr>\n",
       "      <th>6</th>\n",
       "      <td>46</td>\n",
       "      <td>female</td>\n",
       "      <td>33.440</td>\n",
       "      <td>1</td>\n",
       "      <td>no</td>\n",
       "      <td>southeast</td>\n",
       "      <td>8240.58960</td>\n",
       "    </tr>\n",
       "    <tr>\n",
       "      <th>7</th>\n",
       "      <td>37</td>\n",
       "      <td>female</td>\n",
       "      <td>27.740</td>\n",
       "      <td>3</td>\n",
       "      <td>no</td>\n",
       "      <td>northwest</td>\n",
       "      <td>7281.50560</td>\n",
       "    </tr>\n",
       "    <tr>\n",
       "      <th>8</th>\n",
       "      <td>37</td>\n",
       "      <td>male</td>\n",
       "      <td>29.830</td>\n",
       "      <td>2</td>\n",
       "      <td>no</td>\n",
       "      <td>northeast</td>\n",
       "      <td>6406.41070</td>\n",
       "    </tr>\n",
       "    <tr>\n",
       "      <th>9</th>\n",
       "      <td>60</td>\n",
       "      <td>female</td>\n",
       "      <td>25.840</td>\n",
       "      <td>0</td>\n",
       "      <td>no</td>\n",
       "      <td>northwest</td>\n",
       "      <td>28923.13692</td>\n",
       "    </tr>\n",
       "  </tbody>\n",
       "</table>\n",
       "</div>"
      ],
      "text/plain": [
       "   age     sex     bmi  children smoker     region      charges\n",
       "0   19  female  27.900         0    yes  southwest  16884.92400\n",
       "1   18    male  33.770         1     no  southeast   1725.55230\n",
       "2   28    male  33.000         3     no  southeast   4449.46200\n",
       "3   33    male  22.705         0     no  northwest  21984.47061\n",
       "4   32    male  28.880         0     no  northwest   3866.85520\n",
       "5   31  female  25.740         0     no  southeast   3756.62160\n",
       "6   46  female  33.440         1     no  southeast   8240.58960\n",
       "7   37  female  27.740         3     no  northwest   7281.50560\n",
       "8   37    male  29.830         2     no  northeast   6406.41070\n",
       "9   60  female  25.840         0     no  northwest  28923.13692"
      ]
     },
     "execution_count": 2,
     "metadata": {},
     "output_type": "execute_result"
    }
   ],
   "source": [
    "#READING THE FILE\n",
    "\n",
    "df = pd.read_csv(r\"D:\\DATA SCIENCE\\DATASETS\\MEDICAL COST\\insurance.csv\")\n",
    "df.head(10)"
   ]
  },
  {
   "cell_type": "code",
   "execution_count": 3,
   "id": "64160101",
   "metadata": {},
   "outputs": [],
   "source": [
    "#For DIsplay of the All columns and Rows\n",
    "\n",
    "pd.set_option(\"display.max_columns\",None)\n",
    "pd.set_option(\"display.max_rows\",None)"
   ]
  },
  {
   "cell_type": "code",
   "execution_count": 4,
   "id": "7d9a0399",
   "metadata": {},
   "outputs": [
    {
     "name": "stdout",
     "output_type": "stream",
     "text": [
      "Shape of the dataset : (1338, 7)\n"
     ]
    }
   ],
   "source": [
    "#CHECKING THE SHAPE\n",
    "\n",
    "print(\"Shape of the dataset :\",df.shape)"
   ]
  },
  {
   "cell_type": "code",
   "execution_count": 5,
   "id": "18c32b37",
   "metadata": {},
   "outputs": [
    {
     "name": "stdout",
     "output_type": "stream",
     "text": [
      "<class 'pandas.core.frame.DataFrame'>\n",
      "RangeIndex: 1338 entries, 0 to 1337\n",
      "Data columns (total 7 columns):\n",
      " #   Column    Non-Null Count  Dtype  \n",
      "---  ------    --------------  -----  \n",
      " 0   age       1338 non-null   int64  \n",
      " 1   sex       1338 non-null   object \n",
      " 2   bmi       1338 non-null   float64\n",
      " 3   children  1338 non-null   int64  \n",
      " 4   smoker    1338 non-null   object \n",
      " 5   region    1338 non-null   object \n",
      " 6   charges   1338 non-null   float64\n",
      "dtypes: float64(2), int64(2), object(3)\n",
      "memory usage: 73.3+ KB\n"
     ]
    }
   ],
   "source": [
    "#GETTING THE INFORMATION OF THE DATASET\n",
    "\n",
    "df.info()"
   ]
  },
  {
   "cell_type": "code",
   "execution_count": 6,
   "id": "fbd302cb",
   "metadata": {},
   "outputs": [
    {
     "data": {
      "text/html": [
       "<div>\n",
       "<style scoped>\n",
       "    .dataframe tbody tr th:only-of-type {\n",
       "        vertical-align: middle;\n",
       "    }\n",
       "\n",
       "    .dataframe tbody tr th {\n",
       "        vertical-align: top;\n",
       "    }\n",
       "\n",
       "    .dataframe thead th {\n",
       "        text-align: right;\n",
       "    }\n",
       "</style>\n",
       "<table border=\"1\" class=\"dataframe\">\n",
       "  <thead>\n",
       "    <tr style=\"text-align: right;\">\n",
       "      <th></th>\n",
       "      <th>age</th>\n",
       "      <th>bmi</th>\n",
       "      <th>children</th>\n",
       "      <th>charges</th>\n",
       "    </tr>\n",
       "  </thead>\n",
       "  <tbody>\n",
       "    <tr>\n",
       "      <th>count</th>\n",
       "      <td>1338.000000</td>\n",
       "      <td>1338.000000</td>\n",
       "      <td>1338.000000</td>\n",
       "      <td>1338.000000</td>\n",
       "    </tr>\n",
       "    <tr>\n",
       "      <th>mean</th>\n",
       "      <td>39.207025</td>\n",
       "      <td>30.663397</td>\n",
       "      <td>1.094918</td>\n",
       "      <td>13270.422265</td>\n",
       "    </tr>\n",
       "    <tr>\n",
       "      <th>std</th>\n",
       "      <td>14.049960</td>\n",
       "      <td>6.098187</td>\n",
       "      <td>1.205493</td>\n",
       "      <td>12110.011237</td>\n",
       "    </tr>\n",
       "    <tr>\n",
       "      <th>min</th>\n",
       "      <td>18.000000</td>\n",
       "      <td>15.960000</td>\n",
       "      <td>0.000000</td>\n",
       "      <td>1121.873900</td>\n",
       "    </tr>\n",
       "    <tr>\n",
       "      <th>25%</th>\n",
       "      <td>27.000000</td>\n",
       "      <td>26.296250</td>\n",
       "      <td>0.000000</td>\n",
       "      <td>4740.287150</td>\n",
       "    </tr>\n",
       "    <tr>\n",
       "      <th>50%</th>\n",
       "      <td>39.000000</td>\n",
       "      <td>30.400000</td>\n",
       "      <td>1.000000</td>\n",
       "      <td>9382.033000</td>\n",
       "    </tr>\n",
       "    <tr>\n",
       "      <th>75%</th>\n",
       "      <td>51.000000</td>\n",
       "      <td>34.693750</td>\n",
       "      <td>2.000000</td>\n",
       "      <td>16639.912515</td>\n",
       "    </tr>\n",
       "    <tr>\n",
       "      <th>max</th>\n",
       "      <td>64.000000</td>\n",
       "      <td>53.130000</td>\n",
       "      <td>5.000000</td>\n",
       "      <td>63770.428010</td>\n",
       "    </tr>\n",
       "  </tbody>\n",
       "</table>\n",
       "</div>"
      ],
      "text/plain": [
       "               age          bmi     children       charges\n",
       "count  1338.000000  1338.000000  1338.000000   1338.000000\n",
       "mean     39.207025    30.663397     1.094918  13270.422265\n",
       "std      14.049960     6.098187     1.205493  12110.011237\n",
       "min      18.000000    15.960000     0.000000   1121.873900\n",
       "25%      27.000000    26.296250     0.000000   4740.287150\n",
       "50%      39.000000    30.400000     1.000000   9382.033000\n",
       "75%      51.000000    34.693750     2.000000  16639.912515\n",
       "max      64.000000    53.130000     5.000000  63770.428010"
      ]
     },
     "execution_count": 6,
     "metadata": {},
     "output_type": "execute_result"
    }
   ],
   "source": [
    "#GETTING THE DESCRIPTION OF THE DATASET\n",
    "\n",
    "df.describe()"
   ]
  },
  {
   "cell_type": "code",
   "execution_count": 7,
   "id": "a7cef860",
   "metadata": {},
   "outputs": [
    {
     "name": "stdout",
     "output_type": "stream",
     "text": [
      "NUMBER OF NULL VALUES IN EVERY FEATURE\n",
      "--------------------------------------\n"
     ]
    },
    {
     "data": {
      "text/plain": [
       "age         0\n",
       "sex         0\n",
       "bmi         0\n",
       "children    0\n",
       "smoker      0\n",
       "region      0\n",
       "charges     0\n",
       "dtype: int64"
      ]
     },
     "execution_count": 7,
     "metadata": {},
     "output_type": "execute_result"
    }
   ],
   "source": [
    "#CHECKING THE NULL VALUES\n",
    "\n",
    "print(\"NUMBER OF NULL VALUES IN EVERY FEATURE\")\n",
    "print(\"--------------------------------------\")\n",
    "df.isnull().sum()"
   ]
  },
  {
   "cell_type": "code",
   "execution_count": 8,
   "id": "a28fb16d",
   "metadata": {},
   "outputs": [
    {
     "name": "stdout",
     "output_type": "stream",
     "text": [
      "Total number of null values present in the dataset : 0\n"
     ]
    }
   ],
   "source": [
    "#CHECKING THE TOTAL NUMBER OF NULL VALUES\n",
    "\n",
    "print(\"Total number of null values present in the dataset :\",df.isnull().sum().sum())"
   ]
  },
  {
   "cell_type": "code",
   "execution_count": 9,
   "id": "7ce34f6a",
   "metadata": {},
   "outputs": [
    {
     "name": "stdout",
     "output_type": "stream",
     "text": [
      "All the numerical features in the dataset :  Index(['age', 'bmi', 'children', 'charges'], dtype='object')\n"
     ]
    }
   ],
   "source": [
    "#CHECKING THE NUMERICAL FEAUTURES\n",
    "\n",
    "num_var = df.select_dtypes(include=[\"int64\",\"float64\"]).columns\n",
    "\n",
    "print(\"All the numerical features in the dataset : \",num_var)"
   ]
  },
  {
   "cell_type": "code",
   "execution_count": 10,
   "id": "2e6c60c9",
   "metadata": {},
   "outputs": [
    {
     "name": "stdout",
     "output_type": "stream",
     "text": [
      "----------------------------------------------------\n",
      "Upper limit of the age feature : 81.35690654870976\n",
      "Lower limit of the age feature : -2.942855726587176\n",
      "----------------------------------------------------\n",
      "----------------------------------------------------\n",
      "Upper limit of the bmi feature : 48.95795759602359\n",
      "Lower limit of the bmi feature : 12.368836125949507\n",
      "----------------------------------------------------\n",
      "----------------------------------------------------\n",
      "Upper limit of the children feature : 4.711396007088641\n",
      "Lower limit of the children feature : -2.521560431602842\n",
      "----------------------------------------------------\n",
      "----------------------------------------------------\n",
      "Upper limit of the charges feature : 49600.45597522326\n",
      "Lower limit of the charges feature : -23059.611444940747\n",
      "----------------------------------------------------\n"
     ]
    }
   ],
   "source": [
    "#CHECKING THE UPPER AND LOWER LIMIT OF THE FUNCTIONS\n",
    "num_var = ['age', 'bmi', 'children', 'charges']\n",
    "\n",
    "upper_limit = []\n",
    "lower_limit = []\n",
    "\n",
    "for i,var in enumerate(num_var):\n",
    "    upper_limit.append(df[var].mean() + 3 * df[var].std())\n",
    "    lower_limit.append(df[var].mean() - 3 * df[var].std())\n",
    "    \n",
    "    print(\"----------------------------------------------------\")\n",
    "    \n",
    "    print(\"Upper limit of the\",var,\"feature :\" ,upper_limit[-1])\n",
    "    print(\"Lower limit of the\",var,\"feature :\" ,lower_limit[-1])\n",
    "    \n",
    "    print(\"----------------------------------------------------\")"
   ]
  },
  {
   "cell_type": "code",
   "execution_count": 11,
   "id": "e2bbb417",
   "metadata": {},
   "outputs": [
    {
     "data": {
      "image/png": "[encoded data removed]",
      "text/plain": [
       "<Figure size 1000x1000 with 1 Axes>"
      ]
     },
     "metadata": {},
     "output_type": "display_data"
    },
    {
     "data": {
      "image/png": "[encoded data removed]",
      "text/plain": [
       "<Figure size 1000x1000 with 1 Axes>"
      ]
     },
     "metadata": {},
     "output_type": "display_data"
    },
    {
     "data": {
      "image/png": "[encoded data removed]",
      "text/plain": [
       "<Figure size 1000x1000 with 1 Axes>"
      ]
     },
     "metadata": {},
     "output_type": "display_data"
    },
    {
     "data": {
      "image/png": "[encoded data removed]",
      "text/plain": [
       "<Figure size 1000x1000 with 1 Axes>"
      ]
     },
     "metadata": {},
     "output_type": "display_data"
    }
   ],
   "source": [
    "#USING BOXPLOT FOR GETTING THE OUTLIERS\n",
    "num_var = ['age', 'bmi', 'children', 'charges']\n",
    "\n",
    "\n",
    "\n",
    "for i,var in enumerate(num_var):\n",
    "    plt.figure(figsize=(10,10))\n",
    "    plt.subplot(2,2,i+1)\n",
    "    sns.boxplot(df[var])\n",
    "    plt.show()"
   ]
  },
  {
   "cell_type": "code",
   "execution_count": 12,
   "id": "b101837b",
   "metadata": {},
   "outputs": [
    {
     "data": {
      "text/plain": [
       "'def iqr_trimming(df,cols,factor):\\n    \\n    drop_outliers = np.array([])\\n    for col in cols:\\n        \\n        q1 = df[col].quantile(0.25)\\n        q3 = df[col].quantile(0.75)\\n        \\n        iqr = q3 - q1\\n        \\n        upper_lim = q3 + (factor * iqr)\\n        lower_lim = q1 + (factor * iqr)\\n        \\n        s = df[col]\\n        \\n        indexes = s[(s < upper_lim) & (s > lower_lim)].index\\n        \\n        drop_outliers = np.append(drop_outliers,indexes)\\n    return drop_outliers        \\n'"
      ]
     },
     "execution_count": 12,
     "metadata": {},
     "output_type": "execute_result"
    }
   ],
   "source": [
    "'''def iqr_trimming(df,cols,factor):\n",
    "    \n",
    "    drop_outliers = np.array([])\n",
    "    for col in cols:\n",
    "        \n",
    "        q1 = df[col].quantile(0.25)\n",
    "        q3 = df[col].quantile(0.75)\n",
    "        \n",
    "        iqr = q3 - q1\n",
    "        \n",
    "        upper_lim = q3 + (factor * iqr)\n",
    "        lower_lim = q1 + (factor * iqr)\n",
    "        \n",
    "        s = df[col]\n",
    "        \n",
    "        indexes = s[(s < upper_lim) & (s > lower_lim)].index\n",
    "        \n",
    "        drop_outliers = np.append(drop_outliers,indexes)\n",
    "    return drop_outliers        \n",
    "'''"
   ]
  },
  {
   "cell_type": "code",
   "execution_count": 13,
   "id": "6ef24245",
   "metadata": {},
   "outputs": [
    {
     "data": {
      "text/plain": [
       "'dropped = np.unique(iqr_trimming(df,num_var,1.5))\\ndf.drop(dropped,inplace=True)'"
      ]
     },
     "execution_count": 13,
     "metadata": {},
     "output_type": "execute_result"
    }
   ],
   "source": [
    "'''dropped = np.unique(iqr_trimming(df,num_var,1.5))\n",
    "df.drop(dropped,inplace=True)'''"
   ]
  },
  {
   "cell_type": "code",
   "execution_count": 14,
   "id": "dddc6e8b",
   "metadata": {},
   "outputs": [],
   "source": [
    "#HANDLING THE OUTLIERS USING IQR METHOD\n",
    "#SORTING THE DATA\n",
    "\n",
    "df[\"bmi\"] = sorted(df[\"bmi\"])\n",
    "df[\"charges\"] = sorted(df[\"charges\"])"
   ]
  },
  {
   "cell_type": "code",
   "execution_count": 15,
   "id": "0e69811c",
   "metadata": {},
   "outputs": [
    {
     "name": "stdout",
     "output_type": "stream",
     "text": [
      "25th percentile value of the feature  bmi : 26.29625\n",
      "75th percentile value of the feature  bmi : 34.69375\n",
      "----------------------------------------------------------\n",
      "----------------------------------------------------------\n",
      "25th percentile value of the feature  charges : 4740.28715\n",
      "75th percentile value of the feature  charges : 16639.912515\n"
     ]
    }
   ],
   "source": [
    "#CALCULATING THE 25th and 75th PERCENTILE VALUE \n",
    "\n",
    "def percentile_25_75(Feature):\n",
    "    q1,q3 = np.percentile(df[Feature],[25,75])\n",
    "    print(\"25th percentile value of the feature \",Feature,\":\",q1)\n",
    "    print(\"75th percentile value of the feature \",Feature,\":\",q3)\n",
    "\n",
    "percentile_25_75(\"bmi\")\n",
    "print(\"----------------------------------------------------------\")\n",
    "print(\"----------------------------------------------------------\")\n",
    "percentile_25_75(\"charges\")"
   ]
  },
  {
   "cell_type": "code",
   "execution_count": 16,
   "id": "2c5b1d19",
   "metadata": {},
   "outputs": [
    {
     "name": "stdout",
     "output_type": "stream",
     "text": [
      "Inter Quantile Range for the Feature bmi : 8.3975\n",
      "Inter Quantile Range for the Feature charges  : 11899.625365\n"
     ]
    }
   ],
   "source": [
    "#CACULATING THE INTER QUANTILE RANGE FOR THE DATA\n",
    "\n",
    "def IQR(Feature,q1,q3):\n",
    "    iqr = q3 - q1\n",
    "    print(\"Inter Quantile Range for the Feature\",Feature,\":\",iqr)\n",
    "    \n",
    "IQR(\"bmi\",26.29625,34.69375)\n",
    "IQR(\"charges \", 4740.28715,16639.912515)"
   ]
  },
  {
   "cell_type": "code",
   "execution_count": 17,
   "id": "db85be8a",
   "metadata": {},
   "outputs": [
    {
     "name": "stdout",
     "output_type": "stream",
     "text": [
      "Lower limit of the bmi : 13.7\n",
      "Upper limit of the bmi : 47.290000000000006\n",
      "------------------------------------------------\n",
      "------------------------------------------------\n",
      "Lower limit of the charges : -1209.5255324999998\n",
      "Upper limit of the charges : 22589.7251975\n"
     ]
    }
   ],
   "source": [
    "#CALCULATING THE UPPER AND LOWER FENCE\n",
    "\n",
    "def lower_fence(Feature,q1,iqr):\n",
    "    lower_limit = q1 - (1.5 * iqr)\n",
    "    print(\"Lower limit of the\",Feature,\":\",lower_limit)   \n",
    "    \n",
    "    \n",
    "def higher_fence(Feature,q3,iqr):\n",
    "    upper_limit = q3 + (1.5 * iqr)\n",
    "    print(\"Upper limit of the\",Feature,\":\",upper_limit)     \n",
    "\n",
    "lower_fence(\"bmi\",26.29625,8.3975) \n",
    "higher_fence(\"bmi\",34.69375, 8.3975)\n",
    " \n",
    "print(\"------------------------------------------------\")\n",
    "print(\"------------------------------------------------\")\n",
    "\n",
    "lower_fence(\"charges\",16639.912515,11899.625365) \n",
    "higher_fence(\"charges\",4740.28715, 11899.625365) "
   ]
  },
  {
   "cell_type": "code",
   "execution_count": 18,
   "id": "09d7fe02",
   "metadata": {},
   "outputs": [],
   "source": [
    "#TRIMMING THE OUTLIERS \n",
    "\n",
    "df = df.loc[(df[\"bmi\"] < 47.290000000000006) & (df[\"bmi\"] > 13.7)]\n",
    "df = df.loc[(df[\"charges\"] < 22589.7251975) & (df[\"charges\"] > -1209.5255324999998)]"
   ]
  },
  {
   "cell_type": "code",
   "execution_count": 19,
   "id": "4486c843",
   "metadata": {},
   "outputs": [
    {
     "data": {
      "image/png": "[encoded data removed]",
      "text/plain": [
       "<Figure size 500x500 with 1 Axes>"
      ]
     },
     "metadata": {},
     "output_type": "display_data"
    },
    {
     "data": {
      "image/png": "[encoded data removed]",
      "text/plain": [
       "<Figure size 500x500 with 1 Axes>"
      ]
     },
     "metadata": {},
     "output_type": "display_data"
    }
   ],
   "source": [
    "#NOW, CHECKING THE OUTLIERS\n",
    "\n",
    "out_lier = [\"bmi\",\"charges\"]\n",
    "\n",
    "for i,var in enumerate(out_lier):\n",
    "    plt.figure(figsize=(5,5))\n",
    "    plt.subplot(2,1,i+1)\n",
    "    sns.boxplot(df[var])\n",
    "    plt.title(\"OUTLIERS REMOVED FROM THE NUMERIC FEATURE\")\n",
    "    plt.show()\n",
    "    "
   ]
  },
  {
   "cell_type": "code",
   "execution_count": 20,
   "id": "c663df2b",
   "metadata": {},
   "outputs": [
    {
     "name": "stdout",
     "output_type": "stream",
     "text": [
      "All the categorical features in the dataset :  Index(['sex', 'smoker', 'region'], dtype='object')\n"
     ]
    }
   ],
   "source": [
    "#CHECKING THE CATEGORICAL FEAUTURES\n",
    "\n",
    "cat_var = df.select_dtypes(include=[\"O\"]).columns\n",
    "\n",
    "print(\"All the categorical features in the dataset : \",cat_var)"
   ]
  },
  {
   "cell_type": "code",
   "execution_count": 21,
   "id": "f6044333",
   "metadata": {},
   "outputs": [
    {
     "data": {
      "text/plain": [
       "region\n",
       "southeast    306\n",
       "northeast    272\n",
       "southwest    268\n",
       "northwest    262\n",
       "Name: count, dtype: int64"
      ]
     },
     "execution_count": 21,
     "metadata": {},
     "output_type": "execute_result"
    }
   ],
   "source": [
    "df[\"region\"].value_counts()"
   ]
  },
  {
   "cell_type": "code",
   "execution_count": 22,
   "id": "86a6e299",
   "metadata": {},
   "outputs": [],
   "source": [
    "#ORDINAL ENCODING THE REGION FEATURE\n",
    "\n",
    "order_region = {\"southeast\":3,\"northeast\":2,\"southwest\":1,\"northwest\":0}\n",
    "df[\"region\"] = df[\"region\"].map(order_region)"
   ]
  },
  {
   "cell_type": "code",
   "execution_count": 23,
   "id": "53c84727",
   "metadata": {},
   "outputs": [
    {
     "data": {
      "text/plain": [
       "region\n",
       "3    306\n",
       "2    272\n",
       "1    268\n",
       "0    262\n",
       "Name: count, dtype: int64"
      ]
     },
     "execution_count": 23,
     "metadata": {},
     "output_type": "execute_result"
    }
   ],
   "source": [
    "#CHECKING THE CONVERSION\n",
    "\n",
    "df[\"region\"].value_counts()"
   ]
  },
  {
   "cell_type": "code",
   "execution_count": 24,
   "id": "c14f8452",
   "metadata": {},
   "outputs": [
    {
     "data": {
      "text/plain": [
       "sex\n",
       "male      567\n",
       "female    541\n",
       "Name: count, dtype: int64"
      ]
     },
     "execution_count": 24,
     "metadata": {},
     "output_type": "execute_result"
    }
   ],
   "source": [
    "#CHECKING THE NUMBER OF FEATURES\n",
    "\n",
    "df[\"sex\"].value_counts()"
   ]
  },
  {
   "cell_type": "code",
   "execution_count": 25,
   "id": "d99d721d",
   "metadata": {},
   "outputs": [],
   "source": [
    "#LABEL ENCODING THE SEX FEATURE\n",
    "\n",
    "le = LabelEncoder()\n",
    "df[\"sex\"] = le.fit_transform(df[\"sex\"])"
   ]
  },
  {
   "cell_type": "code",
   "execution_count": 26,
   "id": "c7ce45bb",
   "metadata": {},
   "outputs": [
    {
     "data": {
      "text/plain": [
       "sex\n",
       "1    567\n",
       "0    541\n",
       "Name: count, dtype: int64"
      ]
     },
     "execution_count": 26,
     "metadata": {},
     "output_type": "execute_result"
    }
   ],
   "source": [
    "#CHECKING THE CONVERSION\n",
    "\n",
    "df[\"sex\"].value_counts()"
   ]
  },
  {
   "cell_type": "code",
   "execution_count": 27,
   "id": "cdf30e5b",
   "metadata": {},
   "outputs": [
    {
     "data": {
      "text/plain": [
       "smoker\n",
       "no     886\n",
       "yes    222\n",
       "Name: count, dtype: int64"
      ]
     },
     "execution_count": 27,
     "metadata": {},
     "output_type": "execute_result"
    }
   ],
   "source": [
    "#CHECKING THE NUMBER OF FEATURES\n",
    "\n",
    "df[\"smoker\"].value_counts()"
   ]
  },
  {
   "cell_type": "code",
   "execution_count": 28,
   "id": "795a799f",
   "metadata": {},
   "outputs": [],
   "source": [
    "#ORDINAL ENCODING THE SMOKER FEATURE\n",
    "\n",
    "order_smoker = {\"no\":1,\"yes\":0}\n",
    "df[\"smoker\"] = df[\"smoker\"].map(order_smoker)"
   ]
  },
  {
   "cell_type": "code",
   "execution_count": 29,
   "id": "0151c7b9",
   "metadata": {},
   "outputs": [
    {
     "data": {
      "text/plain": [
       "smoker\n",
       "1    886\n",
       "0    222\n",
       "Name: count, dtype: int64"
      ]
     },
     "execution_count": 29,
     "metadata": {},
     "output_type": "execute_result"
    }
   ],
   "source": [
    "#CHECKING THE CONVERSION\n",
    "\n",
    "df[\"smoker\"].value_counts()"
   ]
  },
  {
   "cell_type": "code",
   "execution_count": 30,
   "id": "f2ee9468",
   "metadata": {},
   "outputs": [
    {
     "data": {
      "text/html": [
       "<div>\n",
       "<style scoped>\n",
       "    .dataframe tbody tr th:only-of-type {\n",
       "        vertical-align: middle;\n",
       "    }\n",
       "\n",
       "    .dataframe tbody tr th {\n",
       "        vertical-align: top;\n",
       "    }\n",
       "\n",
       "    .dataframe thead th {\n",
       "        text-align: right;\n",
       "    }\n",
       "</style>\n",
       "<table border=\"1\" class=\"dataframe\">\n",
       "  <thead>\n",
       "    <tr style=\"text-align: right;\">\n",
       "      <th></th>\n",
       "      <th>age</th>\n",
       "      <th>sex</th>\n",
       "      <th>bmi</th>\n",
       "      <th>children</th>\n",
       "      <th>smoker</th>\n",
       "      <th>region</th>\n",
       "      <th>charges</th>\n",
       "    </tr>\n",
       "  </thead>\n",
       "  <tbody>\n",
       "    <tr>\n",
       "      <th>0</th>\n",
       "      <td>19</td>\n",
       "      <td>0</td>\n",
       "      <td>15.960</td>\n",
       "      <td>0</td>\n",
       "      <td>0</td>\n",
       "      <td>1</td>\n",
       "      <td>1121.8739</td>\n",
       "    </tr>\n",
       "    <tr>\n",
       "      <th>1</th>\n",
       "      <td>18</td>\n",
       "      <td>1</td>\n",
       "      <td>16.815</td>\n",
       "      <td>1</td>\n",
       "      <td>1</td>\n",
       "      <td>3</td>\n",
       "      <td>1131.5066</td>\n",
       "    </tr>\n",
       "    <tr>\n",
       "      <th>2</th>\n",
       "      <td>28</td>\n",
       "      <td>1</td>\n",
       "      <td>16.815</td>\n",
       "      <td>3</td>\n",
       "      <td>1</td>\n",
       "      <td>3</td>\n",
       "      <td>1135.9407</td>\n",
       "    </tr>\n",
       "    <tr>\n",
       "      <th>3</th>\n",
       "      <td>33</td>\n",
       "      <td>1</td>\n",
       "      <td>17.195</td>\n",
       "      <td>0</td>\n",
       "      <td>1</td>\n",
       "      <td>0</td>\n",
       "      <td>1136.3994</td>\n",
       "    </tr>\n",
       "    <tr>\n",
       "      <th>4</th>\n",
       "      <td>32</td>\n",
       "      <td>1</td>\n",
       "      <td>17.290</td>\n",
       "      <td>0</td>\n",
       "      <td>1</td>\n",
       "      <td>0</td>\n",
       "      <td>1137.0110</td>\n",
       "    </tr>\n",
       "    <tr>\n",
       "      <th>5</th>\n",
       "      <td>31</td>\n",
       "      <td>0</td>\n",
       "      <td>17.290</td>\n",
       "      <td>0</td>\n",
       "      <td>1</td>\n",
       "      <td>3</td>\n",
       "      <td>1137.4697</td>\n",
       "    </tr>\n",
       "    <tr>\n",
       "      <th>6</th>\n",
       "      <td>46</td>\n",
       "      <td>0</td>\n",
       "      <td>17.290</td>\n",
       "      <td>1</td>\n",
       "      <td>1</td>\n",
       "      <td>3</td>\n",
       "      <td>1141.4451</td>\n",
       "    </tr>\n",
       "    <tr>\n",
       "      <th>7</th>\n",
       "      <td>37</td>\n",
       "      <td>0</td>\n",
       "      <td>17.385</td>\n",
       "      <td>3</td>\n",
       "      <td>1</td>\n",
       "      <td>0</td>\n",
       "      <td>1146.7966</td>\n",
       "    </tr>\n",
       "    <tr>\n",
       "      <th>8</th>\n",
       "      <td>37</td>\n",
       "      <td>1</td>\n",
       "      <td>17.400</td>\n",
       "      <td>2</td>\n",
       "      <td>1</td>\n",
       "      <td>2</td>\n",
       "      <td>1149.3959</td>\n",
       "    </tr>\n",
       "    <tr>\n",
       "      <th>9</th>\n",
       "      <td>60</td>\n",
       "      <td>0</td>\n",
       "      <td>17.480</td>\n",
       "      <td>0</td>\n",
       "      <td>1</td>\n",
       "      <td>0</td>\n",
       "      <td>1163.4627</td>\n",
       "    </tr>\n",
       "  </tbody>\n",
       "</table>\n",
       "</div>"
      ],
      "text/plain": [
       "   age  sex     bmi  children  smoker  region    charges\n",
       "0   19    0  15.960         0       0       1  1121.8739\n",
       "1   18    1  16.815         1       1       3  1131.5066\n",
       "2   28    1  16.815         3       1       3  1135.9407\n",
       "3   33    1  17.195         0       1       0  1136.3994\n",
       "4   32    1  17.290         0       1       0  1137.0110\n",
       "5   31    0  17.290         0       1       3  1137.4697\n",
       "6   46    0  17.290         1       1       3  1141.4451\n",
       "7   37    0  17.385         3       1       0  1146.7966\n",
       "8   37    1  17.400         2       1       2  1149.3959\n",
       "9   60    0  17.480         0       1       0  1163.4627"
      ]
     },
     "execution_count": 30,
     "metadata": {},
     "output_type": "execute_result"
    }
   ],
   "source": [
    "#NOW CHECKING THE DATASET\n",
    "\n",
    "df.head(10)"
   ]
  },
  {
   "cell_type": "code",
   "execution_count": 31,
   "id": "29868780",
   "metadata": {},
   "outputs": [
    {
     "data": {
      "image/png": "[encoded data removed]",
      "text/plain": [
       "<Figure size 1400x500 with 1 Axes>"
      ]
     },
     "metadata": {},
     "output_type": "display_data"
    }
   ],
   "source": [
    "#CHECKING THE RELATION BETWEEN CHARGES AND BMI FEATURE\n",
    "\n",
    "plt.figure(figsize=(14,5))\n",
    "plt.scatter(df[\"charges\"],df[\"bmi\"],color=\"red\")\n",
    "plt.title(\"SCATTER PLOT FOR CHARGES AND BMI FEATURE\")\n",
    "plt.xlabel(\"CHARGES\")\n",
    "plt.ylabel(\"BMI\")\n",
    "plt.show()"
   ]
  },
  {
   "cell_type": "code",
   "execution_count": 32,
   "id": "507c710b",
   "metadata": {},
   "outputs": [
    {
     "data": {
      "text/html": [
       "<div>\n",
       "<style scoped>\n",
       "    .dataframe tbody tr th:only-of-type {\n",
       "        vertical-align: middle;\n",
       "    }\n",
       "\n",
       "    .dataframe tbody tr th {\n",
       "        vertical-align: top;\n",
       "    }\n",
       "\n",
       "    .dataframe thead th {\n",
       "        text-align: right;\n",
       "    }\n",
       "</style>\n",
       "<table border=\"1\" class=\"dataframe\">\n",
       "  <thead>\n",
       "    <tr style=\"text-align: right;\">\n",
       "      <th></th>\n",
       "      <th>age</th>\n",
       "      <th>sex</th>\n",
       "      <th>bmi</th>\n",
       "      <th>children</th>\n",
       "      <th>smoker</th>\n",
       "      <th>region</th>\n",
       "      <th>charges</th>\n",
       "    </tr>\n",
       "  </thead>\n",
       "  <tbody>\n",
       "    <tr>\n",
       "      <th>age</th>\n",
       "      <td>1.000000</td>\n",
       "      <td>-0.048328</td>\n",
       "      <td>0.026599</td>\n",
       "      <td>0.026934</td>\n",
       "      <td>0.017505</td>\n",
       "      <td>-0.012028</td>\n",
       "      <td>0.017173</td>\n",
       "    </tr>\n",
       "    <tr>\n",
       "      <th>sex</th>\n",
       "      <td>-0.048328</td>\n",
       "      <td>1.000000</td>\n",
       "      <td>0.028240</td>\n",
       "      <td>0.003003</td>\n",
       "      <td>-0.078467</td>\n",
       "      <td>-0.016489</td>\n",
       "      <td>0.032247</td>\n",
       "    </tr>\n",
       "    <tr>\n",
       "      <th>bmi</th>\n",
       "      <td>0.026599</td>\n",
       "      <td>0.028240</td>\n",
       "      <td>1.000000</td>\n",
       "      <td>0.012888</td>\n",
       "      <td>0.021609</td>\n",
       "      <td>-0.004106</td>\n",
       "      <td>0.949303</td>\n",
       "    </tr>\n",
       "    <tr>\n",
       "      <th>children</th>\n",
       "      <td>0.026934</td>\n",
       "      <td>0.003003</td>\n",
       "      <td>0.012888</td>\n",
       "      <td>1.000000</td>\n",
       "      <td>-0.007100</td>\n",
       "      <td>-0.014229</td>\n",
       "      <td>0.010098</td>\n",
       "    </tr>\n",
       "    <tr>\n",
       "      <th>smoker</th>\n",
       "      <td>0.017505</td>\n",
       "      <td>-0.078467</td>\n",
       "      <td>0.021609</td>\n",
       "      <td>-0.007100</td>\n",
       "      <td>1.000000</td>\n",
       "      <td>-0.066738</td>\n",
       "      <td>0.006817</td>\n",
       "    </tr>\n",
       "    <tr>\n",
       "      <th>region</th>\n",
       "      <td>-0.012028</td>\n",
       "      <td>-0.016489</td>\n",
       "      <td>-0.004106</td>\n",
       "      <td>-0.014229</td>\n",
       "      <td>-0.066738</td>\n",
       "      <td>1.000000</td>\n",
       "      <td>-0.012181</td>\n",
       "    </tr>\n",
       "    <tr>\n",
       "      <th>charges</th>\n",
       "      <td>0.017173</td>\n",
       "      <td>0.032247</td>\n",
       "      <td>0.949303</td>\n",
       "      <td>0.010098</td>\n",
       "      <td>0.006817</td>\n",
       "      <td>-0.012181</td>\n",
       "      <td>1.000000</td>\n",
       "    </tr>\n",
       "  </tbody>\n",
       "</table>\n",
       "</div>"
      ],
      "text/plain": [
       "               age       sex       bmi  children    smoker    region   charges\n",
       "age       1.000000 -0.048328  0.026599  0.026934  0.017505 -0.012028  0.017173\n",
       "sex      -0.048328  1.000000  0.028240  0.003003 -0.078467 -0.016489  0.032247\n",
       "bmi       0.026599  0.028240  1.000000  0.012888  0.021609 -0.004106  0.949303\n",
       "children  0.026934  0.003003  0.012888  1.000000 -0.007100 -0.014229  0.010098\n",
       "smoker    0.017505 -0.078467  0.021609 -0.007100  1.000000 -0.066738  0.006817\n",
       "region   -0.012028 -0.016489 -0.004106 -0.014229 -0.066738  1.000000 -0.012181\n",
       "charges   0.017173  0.032247  0.949303  0.010098  0.006817 -0.012181  1.000000"
      ]
     },
     "execution_count": 32,
     "metadata": {},
     "output_type": "execute_result"
    }
   ],
   "source": [
    "#GETTING THE CORRELATION OF THE DATASET\n",
    "\n",
    "df.corr() "
   ]
  },
  {
   "cell_type": "code",
   "execution_count": 33,
   "id": "828c241b",
   "metadata": {},
   "outputs": [
    {
     "data": {
      "image/png": "[encoded data removed]",
      "text/plain": [
       "<Figure size 1000x700 with 2 Axes>"
      ]
     },
     "metadata": {},
     "output_type": "display_data"
    }
   ],
   "source": [
    "#CREATING HEATMAP FOR THE FEATURE SELECTION\n",
    "\n",
    "plt.figure(figsize=(10,7))\n",
    "sns.heatmap(df.corr(),annot = True, cmap = \"coolwarm\")\n",
    "plt.title(\"CORRELATION HEATMAP OF THE DATASET\")\n",
    "plt.xlabel(\"FEATURES\")\n",
    "plt.ylabel(\"FEATURES\")\n",
    "plt.show()"
   ]
  },
  {
   "cell_type": "code",
   "execution_count": 34,
   "id": "28c0a24d",
   "metadata": {},
   "outputs": [],
   "source": [
    "#NOW SPLITTING THE DATASET\n",
    "\n",
    "X = df[[\"bmi\",\"sex\"]]\n",
    "y = df[\"charges\"]"
   ]
  },
  {
   "cell_type": "code",
   "execution_count": 35,
   "id": "6fa16f0c",
   "metadata": {},
   "outputs": [
    {
     "name": "stdout",
     "output_type": "stream",
     "text": [
      "Shape of the X train dataset : (886, 2)\n",
      "Shape of the y train dataset : (886,)\n",
      "Shape of the X test dataset : (222, 2)\n",
      "Shape of the y test dataset : (222,)\n"
     ]
    }
   ],
   "source": [
    "#SPLITTING THE DATA INTO TRAIN AND TEST\n",
    "\n",
    "\n",
    "X_train,X_test,y_train,y_test = train_test_split(X,y,test_size = 0.2)\n",
    "\n",
    "print(\"Shape of the X train dataset :\",X_train.shape)\n",
    "print(\"Shape of the y train dataset :\",y_train.shape)\n",
    "\n",
    "print(\"Shape of the X test dataset :\",X_test.shape)\n",
    "print(\"Shape of the y test dataset :\",y_test.shape)"
   ]
  },
  {
   "cell_type": "code",
   "execution_count": 36,
   "id": "7d5c79b1",
   "metadata": {},
   "outputs": [],
   "source": [
    "#NORMALISING THE DATA\n",
    "\n",
    "mms = MinMaxScaler()\n",
    "mms.fit(X_train)\n",
    "\n",
    "X_train_mms = mms.transform(X_train)\n",
    "X_test_mms = mms.transform(X_test)"
   ]
  },
  {
   "cell_type": "code",
   "execution_count": 37,
   "id": "47e43d5c",
   "metadata": {},
   "outputs": [],
   "source": [
    "#STANDARDIZING THE DATA\n",
    "\n",
    "sc = StandardScaler()\n",
    "sc.fit(X_train)\n",
    "\n",
    "X_train_sc = sc.transform(X_train)\n",
    "X_test_sc = sc.transform(X_test)"
   ]
  },
  {
   "cell_type": "code",
   "execution_count": 38,
   "id": "d89e2808",
   "metadata": {},
   "outputs": [
    {
     "data": {
      "text/plain": [
       "0.317348314093715"
      ]
     },
     "execution_count": 38,
     "metadata": {},
     "output_type": "execute_result"
    }
   ],
   "source": [
    "#TRAINING THE MODEL USING SUPPORT VECTOR MACHINE\n",
    "\n",
    "svr = SVR(kernel=\"poly\",degree = 9)\n",
    "svr.fit(X_train_sc,y_train)\n",
    "svr.score(X_test_sc,y_test)"
   ]
  },
  {
   "cell_type": "code",
   "execution_count": 39,
   "id": "c5628643",
   "metadata": {},
   "outputs": [
    {
     "data": {
      "text/plain": [
       "0.9999037201155255"
      ]
     },
     "execution_count": 39,
     "metadata": {},
     "output_type": "execute_result"
    }
   ],
   "source": [
    "#TRAINING THE MODEL USING DECISION TREE\n",
    "\n",
    "dt = DecisionTreeRegressor()\n",
    "dt.fit(X_train,y_train)\n",
    "dt.score(X_test,y_test)"
   ]
  },
  {
   "cell_type": "code",
   "execution_count": 43,
   "id": "c6e17799",
   "metadata": {},
   "outputs": [
    {
     "name": "stdout",
     "output_type": "stream",
     "text": [
      "Cross Validating the Score\n",
      "0.9998785443250616\n"
     ]
    }
   ],
   "source": [
    "print(\"Cross Validating the Score\")\n",
    "csv_dt = cross_val_score(dt,X_train,y_train)\n",
    "print(csv_dt.mean())"
   ]
  },
  {
   "cell_type": "code",
   "execution_count": 41,
   "id": "3e242ba6",
   "metadata": {},
   "outputs": [
    {
     "name": "stdout",
     "output_type": "stream",
     "text": [
      "....................................\n",
      "Error in Decision Tree Model\n",
      "Mean Square Error: 2545.27311290904\n",
      "Root Mean Square Error: 50.450699825760985\n"
     ]
    }
   ],
   "source": [
    "y_pred_dt = dt.predict(X_test)\n",
    "mse_dt = mean_squared_error(y_test,y_pred_dt)\n",
    "rmse_dt = np.sqrt(mse_dt)\n",
    "print(\"....................................\")\n",
    "print(\"Error in Decision Tree Model\")\n",
    "print(\"Mean Square Error:\",mse_dt)\n",
    "print(\"Root Mean Square Error:\",rmse_dt)\n"
   ]
  },
  {
   "cell_type": "code",
   "execution_count": 42,
   "id": "b073fc2f",
   "metadata": {},
   "outputs": [
    {
     "data": {
      "text/plain": [
       "0.9999035216892738"
      ]
     },
     "execution_count": 42,
     "metadata": {},
     "output_type": "execute_result"
    }
   ],
   "source": [
    "r2_score(y_pred_dt,y_test)"
   ]
  },
  {
   "cell_type": "code",
   "execution_count": null,
   "id": "8480fb3c",
   "metadata": {},
   "outputs": [],
   "source": []
  },
  {
   "cell_type": "code",
   "execution_count": null,
   "id": "e830e4b5",
   "metadata": {},
   "outputs": [],
   "source": []
  },
  {
   "cell_type": "code",
   "execution_count": null,
   "id": "7d0ae0c7",
   "metadata": {},
   "outputs": [],
   "source": []
  },
  {
   "cell_type": "code",
   "execution_count": null,
   "id": "6dd68724",
   "metadata": {},
   "outputs": [],
   "source": []
  },
  {
   "cell_type": "code",
   "execution_count": null,
   "id": "aa1e7d41",
   "metadata": {},
   "outputs": [],
   "source": []
  }
 ],
 "metadata": {
  "kernelspec": {
   "display_name": "Python 3 (ipykernel)",
   "language": "python",
   "name": "python3"
  },
  "language_info": {
   "codemirror_mode": {
    "name": "ipython",
    "version": 3
   },
   "file_extension": ".py",
   "mimetype": "text/x-python",
   "name": "python",
   "nbconvert_exporter": "python",
   "pygments_lexer": "ipython3",
   "version": "3.10.9"
  }
 },
 "nbformat": 4,
 "nbformat_minor": 5
}
